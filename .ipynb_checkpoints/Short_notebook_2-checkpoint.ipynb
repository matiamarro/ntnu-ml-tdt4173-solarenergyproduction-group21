{
 "cells": [
  {
   "cell_type": "markdown",
   "id": "69005a2f-957e-4261-aa67-254008221c36",
   "metadata": {},
   "source": [
    "# Group 21 - We're Kenough"
   ]
  },
  {
   "cell_type": "markdown",
   "id": "65db86b8-ec56-47fb-951d-b2f350d469f1",
   "metadata": {},
   "source": [
    "- Angelica Ricci: 105181\n",
    "- Mattia Milone: 105633\n",
    "- Michele Lamon: 105251"
   ]
  },
  {
   "cell_type": "markdown",
   "id": "bc44a72c",
   "metadata": {},
   "source": [
    "Estimated time running:\n",
    "+ intel 11th Gen Intel(R) Core(TM) i7-1165G7 @ 2.80GHz 16GB ram: 3 hours "
   ]
  },
  {
   "cell_type": "markdown",
   "id": "81529b37-5564-443a-97cc-7f694533acba",
   "metadata": {
    "tags": []
   },
   "source": [
    "# Short notebook - 2"
   ]
  },
  {
   "cell_type": "markdown",
   "id": "03ad68ad-f583-4072-9317-2027ae342fa0",
   "metadata": {
    "jp-MarkdownHeadingCollapsed": true,
    "tags": []
   },
   "source": [
    "## Importing all the libraries"
   ]
  },
  {
   "cell_type": "code",
   "execution_count": null,
   "id": "8511b1db-5171-44e7-bc6e-344d1a1c0018",
   "metadata": {},
   "outputs": [],
   "source": [
    "import pandas as pd\n",
    "import numpy as np\n",
    "import seaborn as sns\n",
    "import matplotlib.pylab as plt\n",
    "from datetime import datetime\n",
    "\n",
    "import lightgbm as lgb\n",
    "from lightgbm import LGBMRegressor\n",
    "import catboost\n",
    "from catboost import CatBoostRegressor\n",
    "from catboost import Pool\n",
    "import xgboost as xgb\n",
    "from xgboost import XGBRegressor\n",
    "from sklearn.ensemble import RandomForestRegressor\n",
    "from sklearn.svm import SVR\n",
    "\n",
    "from sklearn.model_selection import train_test_split, KFold\n",
    "from sklearn.metrics import mean_absolute_error, accuracy_score, mean_squared_error\n",
    "from sklearn.ensemble import StackingRegressor\n",
    "from sklearn.linear_model import LinearRegression\n",
    "\n",
    "import warnings\n",
    "import os\n",
    "import re\n",
    "warnings.filterwarnings('ignore')\n",
    "%matplotlib inline\n",
    "\n",
    "pd.set_option('display.max_rows', 200)\n",
    "pd.set_option('display.max_columns', 200)"
   ]
  },
  {
   "cell_type": "markdown",
   "id": "5ef6f2a9-dbbf-404e-9dd0-f0a229eb1872",
   "metadata": {
    "jp-MarkdownHeadingCollapsed": true,
    "tags": []
   },
   "source": [
    "## Uploading the data"
   ]
  },
  {
   "cell_type": "code",
   "execution_count": null,
   "id": "58d2baff-5faf-4fba-8102-2ff29be4308f",
   "metadata": {},
   "outputs": [],
   "source": [
    "train_a = pd.read_parquet('A/train_targets.parquet')\n",
    "train_b = pd.read_parquet('B/train_targets.parquet')\n",
    "train_c = pd.read_parquet('C/train_targets.parquet')"
   ]
  },
  {
   "cell_type": "code",
   "execution_count": null,
   "id": "96e79d5b-35ca-4a35-b815-c3c5a9cef89e",
   "metadata": {},
   "outputs": [],
   "source": [
    "X_train_estimated_a = pd.read_parquet('A/X_train_estimated.parquet')\n",
    "X_train_estimated_b = pd.read_parquet('B/X_train_estimated.parquet')\n",
    "X_train_estimated_c = pd.read_parquet('C/X_train_estimated.parquet')"
   ]
  },
  {
   "cell_type": "code",
   "execution_count": null,
   "id": "82bea7c5-242e-4b7f-8610-f8932903356a",
   "metadata": {},
   "outputs": [],
   "source": [
    "X_train_observed_a = pd.read_parquet('A/X_train_observed.parquet')\n",
    "X_train_observed_b = pd.read_parquet('B/X_train_observed.parquet')\n",
    "X_train_observed_c = pd.read_parquet('C/X_train_observed.parquet')"
   ]
  },
  {
   "cell_type": "code",
   "execution_count": null,
   "id": "c30e9df5-1e22-41e9-8a52-54635f616aad",
   "metadata": {},
   "outputs": [],
   "source": [
    "X_train_observed_a = pd.read_parquet('A/X_train_observed.parquet')\n",
    "X_train_observed_b = pd.read_parquet('B/X_train_observed.parquet')\n",
    "X_train_observed_c = pd.read_parquet('C/X_train_observed.parquet')"
   ]
  },
  {
   "cell_type": "code",
   "execution_count": null,
   "id": "2d6785ac-d984-4e15-b94c-5698f1069510",
   "metadata": {},
   "outputs": [],
   "source": [
    "X_test_estimated_a = pd.read_parquet('A/X_test_estimated.parquet')\n",
    "X_test_estimated_b = pd.read_parquet('B/X_test_estimated.parquet')\n",
    "X_test_estimated_c = pd.read_parquet('C/X_test_estimated.parquet')"
   ]
  },
  {
   "cell_type": "code",
   "execution_count": null,
   "id": "39fcba64-57d0-47d7-92fc-4cb0fa8bda39",
   "metadata": {},
   "outputs": [],
   "source": [
    "test2 = pd.read_csv('test.csv')\n",
    "test2['time'] = pd.to_datetime(test2['time'])"
   ]
  },
  {
   "cell_type": "markdown",
   "id": "0be92d7f-64f4-4a14-8a7a-a568e4ab26a7",
   "metadata": {
    "jp-MarkdownHeadingCollapsed": true,
    "tags": []
   },
   "source": [
    "## Preparation of the data"
   ]
  },
  {
   "cell_type": "code",
   "execution_count": null,
   "id": "99c7ffd6-6c14-4928-940d-cbfcf4de1a11",
   "metadata": {},
   "outputs": [],
   "source": [
    "train_a['time'] = pd.to_datetime(train_a['time'])\n",
    "train_b['time'] = pd.to_datetime(train_b['time'])\n",
    "train_c['time'] = pd.to_datetime(train_c['time'])\n",
    "\n",
    "X_train_estimated_a['date_forecast'] = pd.to_datetime(X_train_estimated_a['date_forecast'])\n",
    "X_train_estimated_b['date_forecast'] = pd.to_datetime(X_train_estimated_b['date_forecast'])\n",
    "X_train_estimated_c['date_forecast'] = pd.to_datetime(X_train_estimated_c['date_forecast'])\n",
    "\n",
    "X_train_observed_a['date_forecast'] = pd.to_datetime(X_train_observed_a['date_forecast'])\n",
    "X_train_observed_b['date_forecast'] = pd.to_datetime(X_train_observed_b['date_forecast'])\n",
    "X_train_observed_c['date_forecast'] = pd.to_datetime(X_train_observed_c['date_forecast'])\n",
    "\n",
    "X_test_estimated_a['date_forecast'] = pd.to_datetime(X_test_estimated_a['date_forecast'])\n",
    "X_test_estimated_b['date_forecast'] = pd.to_datetime(X_test_estimated_b['date_forecast'])\n",
    "X_test_estimated_c['date_forecast'] = pd.to_datetime(X_test_estimated_c['date_forecast'])"
   ]
  },
  {
   "cell_type": "code",
   "execution_count": null,
   "id": "f4f0a646-ed34-436e-8323-bbadef184f9b",
   "metadata": {},
   "outputs": [],
   "source": [
    "X_train_estimated_a['forecast_age'] = (X_train_estimated_a['date_forecast']-X_train_estimated_a['date_calc']).dt.seconds/3600\n",
    "del X_train_estimated_a['date_calc']\n",
    "X_test_estimated_a['forecast_age'] = (X_test_estimated_a['date_forecast']-X_test_estimated_a['date_calc']).dt.seconds/3600\n",
    "del X_test_estimated_a['date_calc']\n",
    "\n",
    "X_train_estimated_b['forecast_age'] = (X_train_estimated_b['date_forecast']-X_train_estimated_b['date_calc']).dt.seconds/3600\n",
    "del X_train_estimated_b['date_calc']\n",
    "X_test_estimated_b['forecast_age'] = (X_test_estimated_b['date_forecast']-X_test_estimated_b['date_calc']).dt.seconds/3600\n",
    "del X_test_estimated_b['date_calc']\n",
    "\n",
    "X_train_estimated_c['forecast_age'] = (X_train_estimated_c['date_forecast']-X_train_estimated_c['date_calc']).dt.seconds/3600\n",
    "del X_train_estimated_c['date_calc']\n",
    "X_test_estimated_c['forecast_age'] = (X_test_estimated_c['date_forecast']-X_test_estimated_c['date_calc']).dt.seconds/3600\n",
    "del X_test_estimated_c['date_calc']"
   ]
  },
  {
   "cell_type": "code",
   "execution_count": null,
   "id": "b738d32b-2e77-4117-91bb-6028f60f805b",
   "metadata": {},
   "outputs": [],
   "source": [
    "X_train_observed_a.set_index('date_forecast', inplace=True)\n",
    "X_train_observed_b.set_index('date_forecast', inplace=True)\n",
    "X_train_observed_c.set_index('date_forecast', inplace=True)\n",
    "\n",
    "X_train_estimated_a.set_index('date_forecast', inplace=True)\n",
    "X_train_estimated_b.set_index('date_forecast', inplace=True)\n",
    "X_train_estimated_c.set_index('date_forecast', inplace=True)\n",
    "\n",
    "X_test_estimated_a.set_index('date_forecast', inplace=True)\n",
    "X_test_estimated_b.set_index('date_forecast', inplace=True)\n",
    "X_test_estimated_c.set_index('date_forecast', inplace=True)"
   ]
  },
  {
   "cell_type": "code",
   "execution_count": null,
   "id": "84cb6967-cc9e-42fa-bf3c-92137f4962e8",
   "metadata": {},
   "outputs": [],
   "source": [
    "X_train_observed_a['sensor_A'] = 1\n",
    "X_train_observed_a['sensor_B'] = 0\n",
    "X_train_observed_a['sensor_C'] = 0\n",
    "X_train_observed_a['month'] = X_train_observed_a.index.strftime('%m')\n",
    "X_train_observed_a['hour'] = X_train_observed_a.index.strftime('%H')\n",
    "X_train_observed_a['forecast_age'] = 0\n",
    "X_train_observed_a['is_obv'] = 1\n",
    "\n",
    "X_train_observed_b['sensor_A'] = 0\n",
    "X_train_observed_b['sensor_B'] = 1\n",
    "X_train_observed_b['sensor_C'] = 0\n",
    "X_train_observed_b['month'] = X_train_observed_b.index.strftime('%m')\n",
    "X_train_observed_b['hour'] = X_train_observed_b.index.strftime('%H')\n",
    "X_train_observed_b['forecast_age'] = 0\n",
    "X_train_observed_b['is_obv'] = 1\n",
    "\n",
    "X_train_observed_c['sensor_A'] = 0\n",
    "X_train_observed_c['sensor_B'] = 0\n",
    "X_train_observed_c['sensor_C'] = 1\n",
    "X_train_observed_c['month'] = X_train_observed_c.index.strftime('%m')\n",
    "X_train_observed_c['hour'] = X_train_observed_c.index.strftime('%H')\n",
    "X_train_observed_c['forecast_age'] = 0\n",
    "X_train_observed_c['is_obv'] = 1"
   ]
  },
  {
   "cell_type": "code",
   "execution_count": null,
   "id": "29f24f82-c3fe-4584-a6c4-e32624c7ca4d",
   "metadata": {},
   "outputs": [],
   "source": [
    "X_train_estimated_a['sensor_A'] = 1\n",
    "X_train_estimated_a['sensor_B'] = 0\n",
    "X_train_estimated_a['sensor_C'] = 0\n",
    "X_train_estimated_a['month'] = X_train_estimated_a.index.strftime('%m')\n",
    "X_train_estimated_a['hour'] = X_train_estimated_a.index.strftime('%H')\n",
    "X_train_estimated_a['is_obv'] = 0\n",
    "\n",
    "X_train_estimated_b['sensor_A'] = 0\n",
    "X_train_estimated_b['sensor_B'] = 1\n",
    "X_train_estimated_b['sensor_C'] = 0\n",
    "X_train_estimated_b['month'] = X_train_estimated_b.index.strftime('%m')\n",
    "X_train_estimated_b['hour'] = X_train_estimated_b.index.strftime('%H')\n",
    "X_train_estimated_b['is_obv'] = 0\n",
    "\n",
    "X_train_estimated_c['sensor_A'] = 0\n",
    "X_train_estimated_c['sensor_B'] = 0\n",
    "X_train_estimated_c['sensor_C'] = 1\n",
    "X_train_estimated_c['month'] = X_train_estimated_c.index.strftime('%m')\n",
    "X_train_estimated_c['hour'] = X_train_estimated_c.index.strftime('%H')\n",
    "X_train_estimated_c['is_obv'] = 0"
   ]
  },
  {
   "cell_type": "code",
   "execution_count": null,
   "id": "8c6aec02-c58a-4388-b352-009e493fcb53",
   "metadata": {},
   "outputs": [],
   "source": [
    "X_test_estimated_a['sensor_A'] = 1\n",
    "X_test_estimated_a['sensor_B'] = 0\n",
    "X_test_estimated_a['sensor_C'] = 0\n",
    "X_test_estimated_a['month'] = X_test_estimated_a.index.strftime('%m')\n",
    "X_test_estimated_a['hour'] = X_test_estimated_a.index.strftime('%H')\n",
    "X_test_estimated_a['is_obv'] = 0\n",
    "\n",
    "X_test_estimated_b['sensor_A'] = 0\n",
    "X_test_estimated_b['sensor_B'] = 1\n",
    "X_test_estimated_b['sensor_C'] = 0\n",
    "X_test_estimated_b['month'] = X_test_estimated_b.index.strftime('%m')\n",
    "X_test_estimated_b['hour'] = X_test_estimated_b.index.strftime('%H')\n",
    "X_test_estimated_b['is_obv'] = 0\n",
    "\n",
    "X_test_estimated_c['sensor_A'] = 0\n",
    "X_test_estimated_c['sensor_B'] = 0\n",
    "X_test_estimated_c['sensor_C'] = 1\n",
    "X_test_estimated_c['month'] = X_test_estimated_c.index.strftime('%m')\n",
    "X_test_estimated_c['hour'] = X_test_estimated_c.index.strftime('%H')\n",
    "X_test_estimated_c['is_obv'] = 0"
   ]
  },
  {
   "cell_type": "code",
   "execution_count": null,
   "id": "faff4640-e5ad-4a7b-b3a2-2bfd8d8dbb05",
   "metadata": {},
   "outputs": [],
   "source": [
    "X_train_observed_a[[\"month\", \"hour\"]] = X_train_observed_a[[\"month\", \"hour\"]].apply(pd.to_numeric)\n",
    "X_train_estimated_a[[\"month\", \"hour\"]] = X_train_estimated_a[[\"month\", \"hour\"]].apply(pd.to_numeric)\n",
    "X_test_estimated_a[[\"month\", \"hour\"]] = X_test_estimated_a[[\"month\", \"hour\"]].apply(pd.to_numeric)\n",
    "\n",
    "X_train_observed_b[[\"month\", \"hour\"]] = X_train_observed_b[[\"month\", \"hour\"]].apply(pd.to_numeric)\n",
    "X_train_estimated_b[[\"month\", \"hour\"]] = X_train_estimated_b[[\"month\", \"hour\"]].apply(pd.to_numeric)\n",
    "X_test_estimated_b[[\"month\", \"hour\"]] = X_test_estimated_b[[\"month\", \"hour\"]].apply(pd.to_numeric)\n",
    "\n",
    "X_train_observed_c[[\"month\", \"hour\"]] = X_train_observed_c[[\"month\", \"hour\"]].apply(pd.to_numeric)\n",
    "X_train_estimated_c[[\"month\", \"hour\"]] = X_train_estimated_c[[\"month\", \"hour\"]].apply(pd.to_numeric)\n",
    "X_test_estimated_c[[\"month\", \"hour\"]] = X_test_estimated_c[[\"month\", \"hour\"]].apply(pd.to_numeric)"
   ]
  },
  {
   "cell_type": "code",
   "execution_count": null,
   "id": "46651db6-359d-41c3-8bc4-bb758d0bcd44",
   "metadata": {},
   "outputs": [],
   "source": [
    "X_train_observed_a = X_train_observed_a.resample('H').median()\n",
    "X_train_observed_b = X_train_observed_b.resample('H').median()\n",
    "X_train_observed_c = X_train_observed_c.resample('H').median()\n",
    "X_train_estimated_a = X_train_estimated_a.resample('H').median()\n",
    "X_train_estimated_b = X_train_estimated_b.resample('H').median()\n",
    "X_train_estimated_c = X_train_estimated_c.resample('H').median()\n",
    "X_test_estimated_a = X_test_estimated_a.resample('H').median()\n",
    "X_test_estimated_b = X_test_estimated_b.resample('H').median()\n",
    "X_test_estimated_c = X_test_estimated_c.resample('H').median()"
   ]
  },
  {
   "cell_type": "code",
   "execution_count": null,
   "id": "8e23fc49-fbde-45c3-914e-748374f18890",
   "metadata": {},
   "outputs": [],
   "source": [
    "train_b_new = train_b.copy()\n",
    "\n",
    "train_b_new['diff1'] = train_b_new['pv_measurement'] - train_b_new['pv_measurement'].shift(1)\n",
    "train_b_new['diff3'] = train_b_new['pv_measurement'] - train_b_new['pv_measurement'].shift(3)\n",
    "train_b_new['diff5'] = train_b_new['pv_measurement'] - train_b_new['pv_measurement'].shift(5)\n",
    "train_b_new['diff7'] = train_b_new['pv_measurement'] - train_b_new['pv_measurement'].shift(7)\n",
    "train_b_new['diff10'] = train_b_new['pv_measurement'] - train_b_new['pv_measurement'].shift(10)\n",
    "train_b_new['diff15'] = train_b_new['pv_measurement'] - train_b_new['pv_measurement'].shift(15)\n",
    "\n",
    "train_b_new['toDrop'] = ((train_b_new['diff1'] + train_b_new[\n",
    "    'diff3'] + train_b_new['diff5'] + train_b_new['diff7'] + train_b_new['diff10'] + train_b_new['diff15']) == 0)\n",
    "\n",
    "train_b_new = train_b_new[train_b_new['toDrop'] != True]\n",
    "train_b_new = train_b_new.drop(columns=['diff1', 'diff3', 'diff5', 'diff7', 'diff10', 'diff15', 'toDrop'])"
   ]
  },
  {
   "cell_type": "code",
   "execution_count": null,
   "id": "4991e355-0deb-4e48-8095-75b25e1f4653",
   "metadata": {},
   "outputs": [],
   "source": [
    "train_c_new = train_c.copy()\n",
    "\n",
    "train_c_new['diff1'] = train_c_new['pv_measurement'] - train_c_new['pv_measurement'].shift(1)\n",
    "train_c_new['diff3'] = train_c_new['pv_measurement'] - train_c_new['pv_measurement'].shift(3)\n",
    "train_c_new['diff5'] = train_c_new['pv_measurement'] - train_c_new['pv_measurement'].shift(5)\n",
    "train_c_new['diff7'] = train_c_new['pv_measurement'] - train_c_new['pv_measurement'].shift(7)\n",
    "train_c_new['diff10'] = train_c_new['pv_measurement'] - train_c_new['pv_measurement'].shift(10)\n",
    "train_c_new['diff15'] = train_c_new['pv_measurement'] - train_c_new['pv_measurement'].shift(15)\n",
    "\n",
    "train_c_new['toDrop'] = ((train_c_new['diff1'] + train_c_new[\n",
    "    'diff3'] + train_c_new['diff5'] + train_c_new['diff7'] + train_c_new['diff10'] + train_c_new['diff15']) == 0)\n",
    "\n",
    "train_c_new = train_c_new[train_c_new['toDrop'] != True]\n",
    "train_c_new = train_c_new.drop(columns=['diff1', 'diff3', 'diff5', 'diff7', 'diff10', 'diff15', 'toDrop'])"
   ]
  },
  {
   "cell_type": "code",
   "execution_count": null,
   "id": "9ce9b66b-4bd5-4ac4-bbd5-9bddf4debb1c",
   "metadata": {},
   "outputs": [],
   "source": [
    "y_train_observed_a = train_a.merge(X_train_observed_a, left_on='time', right_on='date_forecast', how='right')\n",
    "y_train_observed_b = train_b_new.merge(X_train_observed_b, left_on='time', right_on='date_forecast', how='right')\n",
    "y_train_observed_c = train_c_new.merge(X_train_observed_c, left_on='time', right_on='date_forecast', how='right')\n",
    "\n",
    "y_train_obv = pd.concat([y_train_observed_a,y_train_observed_b,y_train_observed_c])"
   ]
  },
  {
   "cell_type": "code",
   "execution_count": null,
   "id": "b2c74946-c917-4aa9-8106-3f68ceb434ce",
   "metadata": {},
   "outputs": [],
   "source": [
    "y_train_estimated_a = train_a.merge(X_train_estimated_a, left_on='time', right_on='date_forecast', how='right')\n",
    "y_train_estimated_b = train_b_new.merge(X_train_estimated_b, left_on='time', right_on='date_forecast', how='right')\n",
    "y_train_estimated_c = train_c_new.merge(X_train_estimated_c, left_on='time', right_on='date_forecast', how='right')\n",
    "\n",
    "y_train_est = pd.concat([y_train_estimated_a,y_train_estimated_b,y_train_estimated_c])"
   ]
  },
  {
   "cell_type": "code",
   "execution_count": null,
   "id": "9351b4b2-579f-4e2c-9a20-6848d0ecd2a9",
   "metadata": {},
   "outputs": [],
   "source": [
    "test = pd.concat([X_test_estimated_a,X_test_estimated_b,X_test_estimated_c])"
   ]
  },
  {
   "cell_type": "markdown",
   "id": "577af3a6-bde4-4b8f-93e5-a9ed80e7d499",
   "metadata": {
    "jp-MarkdownHeadingCollapsed": true,
    "tags": []
   },
   "source": [
    "## NaN Values"
   ]
  },
  {
   "cell_type": "code",
   "execution_count": null,
   "id": "57caf83b-09ed-4637-b48d-57e2671df98c",
   "metadata": {},
   "outputs": [],
   "source": [
    "feature_with_nan_obv = [features for features in y_train_obv.columns if y_train_obv[features].isnull().sum()>1]\n",
    "feature_with_nan_est =[features for features in y_train_est.columns if y_train_est[features].isnull().sum()>1]"
   ]
  },
  {
   "cell_type": "code",
   "execution_count": null,
   "id": "5c9a7a1b-e654-49cd-a59a-3c32f1578a18",
   "metadata": {},
   "outputs": [],
   "source": [
    "del y_train_obv['snow_density:kgm3']\n",
    "del y_train_est['snow_density:kgm3']\n",
    "del test['snow_density:kgm3']"
   ]
  },
  {
   "cell_type": "code",
   "execution_count": null,
   "id": "7f0d411f-dd7d-4245-a0cf-0d50b1724230",
   "metadata": {},
   "outputs": [],
   "source": [
    "columns_to_delete=['ceiling_height_agl:m','snow_drift:idx','elevation:m','cloud_base_agl:m']\n",
    "y_train_obv.drop(columns=columns_to_delete, inplace=True)\n",
    "y_train_est.drop(columns=columns_to_delete, inplace=True)\n",
    "test.drop(columns=columns_to_delete, inplace=True)"
   ]
  },
  {
   "cell_type": "code",
   "execution_count": null,
   "id": "8342c60e-701e-4b3d-a152-b2dcbb09f575",
   "metadata": {},
   "outputs": [],
   "source": [
    "y_train_obv = y_train_obv.dropna()\n",
    "y_train_est = y_train_est.dropna()"
   ]
  },
  {
   "cell_type": "markdown",
   "id": "c588e9aa-75a8-463d-b38c-fb1252377bce",
   "metadata": {
    "jp-MarkdownHeadingCollapsed": true,
    "tags": []
   },
   "source": [
    "## Train and test sets"
   ]
  },
  {
   "cell_type": "code",
   "execution_count": null,
   "id": "c1c344e4-ddcb-4ce5-a6d7-0f8e42661bd4",
   "metadata": {},
   "outputs": [],
   "source": [
    "train=pd.concat([y_train_obv,y_train_est])\n",
    "train=train.set_index('time')"
   ]
  },
  {
   "cell_type": "code",
   "execution_count": null,
   "id": "34c00070-54ba-403f-acf8-544b72861092",
   "metadata": {},
   "outputs": [],
   "source": [
    "col = test.pop('forecast_age')\n",
    "test.insert(45, col.name, col)"
   ]
  },
  {
   "cell_type": "code",
   "execution_count": null,
   "id": "a4508e06-a06a-49d9-bf0c-495974934955",
   "metadata": {},
   "outputs": [],
   "source": [
    "train['day_of_week'] = train.index.dayofweek\n",
    "test['day_of_week'] = test.index.dayofweek\n",
    "train['day_of_year'] = train.index.dayofyear\n",
    "test['day_of_year'] = test.index.dayofyear"
   ]
  },
  {
   "cell_type": "code",
   "execution_count": null,
   "id": "56808dd5-28c9-4759-b732-6fbf37d9a903",
   "metadata": {},
   "outputs": [],
   "source": [
    "season_mapping = {\n",
    "    1: 1,\n",
    "    2: 1,\n",
    "    3: 2,\n",
    "    4: 2,\n",
    "    5: 2,\n",
    "    6: 3,\n",
    "    7: 3,\n",
    "    8: 3,\n",
    "    9: 4,\n",
    "    10: 4,\n",
    "    11: 4,\n",
    "    12: 1,\n",
    "}\n",
    "\n",
    "# Create a new column 'Season' based on the mapping\n",
    "train['season'] = train['month'].map(season_mapping)\n",
    "test['season'] = test['month'].map(season_mapping)"
   ]
  },
  {
   "cell_type": "code",
   "execution_count": null,
   "id": "8769eeb3-797c-4860-a266-930d7720fe2a",
   "metadata": {},
   "outputs": [],
   "source": [
    "train = pd.get_dummies(train, columns=['is_day:idx'])\n",
    "test = pd.get_dummies(test, columns=['is_day:idx'])\n",
    "train = pd.get_dummies(train, columns=['is_in_shadow:idx'])\n",
    "test = pd.get_dummies(test, columns=['is_in_shadow:idx'])"
   ]
  },
  {
   "cell_type": "code",
   "execution_count": null,
   "id": "079335bd-d101-48d2-88cc-85a1c9b869ec",
   "metadata": {},
   "outputs": [],
   "source": [
    "train.fillna(0, inplace=True)\n",
    "test.fillna(0, inplace=True)"
   ]
  },
  {
   "cell_type": "code",
   "execution_count": null,
   "id": "ce622bde-c7fa-44a7-87db-4ea48ee37537",
   "metadata": {},
   "outputs": [],
   "source": [
    "X_train = train.loc[:, train.columns != \"pv_measurement\"]\n",
    "y_train = train['pv_measurement']"
   ]
  },
  {
   "cell_type": "code",
   "execution_count": null,
   "id": "6dffc576-3d37-422e-8058-52b53c867ab5",
   "metadata": {},
   "outputs": [],
   "source": [
    "# Create cyclical features for day of the week\n",
    "X_train['day_of_week_sin'] = np.sin(2 * np.pi * X_train['day_of_week'] / 7)\n",
    "X_train['day_of_week_cos'] = np.cos(2 * np.pi * X_train['day_of_week'] / 7)\n",
    "\n",
    "# Create cyclical features for month\n",
    "X_train['month_sin'] = np.sin(2 * np.pi * X_train['month'] / 12)\n",
    "X_train['month_cos'] = np.cos(2 * np.pi * X_train['month'] / 12)\n",
    "\n",
    "# Create cyclical features for day of the week\n",
    "test['day_of_week_sin'] = np.sin(2 * np.pi * test['day_of_week'] / 7)\n",
    "test['day_of_week_cos'] = np.cos(2 * np.pi * test['day_of_week'] / 7)\n",
    "\n",
    "# Create cyclical features for month\n",
    "test['month_sin'] = np.sin(2 * np.pi * test['month'] / 12)\n",
    "test['month_cos'] = np.cos(2 * np.pi * test['month'] / 12)"
   ]
  },
  {
   "cell_type": "code",
   "execution_count": null,
   "id": "bafbbcea-36c9-4bef-ad9f-ed9689463d51",
   "metadata": {},
   "outputs": [],
   "source": [
    "y_train_transformed = np.sqrt(y_train)"
   ]
  },
  {
   "cell_type": "markdown",
   "id": "765d4516-cf26-489d-b01f-168eb3e5b161",
   "metadata": {
    "jp-MarkdownHeadingCollapsed": true,
    "tags": []
   },
   "source": [
    "## Preparation of the test set and the submission file base"
   ]
  },
  {
   "cell_type": "code",
   "execution_count": null,
   "id": "ebe9b281-0165-4f83-bc0f-c7ae6f05a514",
   "metadata": {},
   "outputs": [],
   "source": [
    "X_test = test2.merge(test, left_on='time', right_on='date_forecast', how='left')\n",
    "X_test = pd.get_dummies(X_test, columns=['location'], prefix='sensor2')"
   ]
  },
  {
   "cell_type": "code",
   "execution_count": null,
   "id": "750f0307-1909-4289-8273-d32e8183462f",
   "metadata": {},
   "outputs": [],
   "source": [
    "X_test = X_test[(X_test['sensor_A'] == X_test['sensor2_A']) &\n",
    "                 (X_test['sensor_B'] == X_test['sensor2_B']) &\n",
    "                 (X_test['sensor_C'] == X_test['sensor2_C'])]"
   ]
  },
  {
   "cell_type": "code",
   "execution_count": null,
   "id": "bccd81db-8caa-4418-b14d-ef0aa25635ce",
   "metadata": {},
   "outputs": [],
   "source": [
    "del X_test['sensor2_A']\n",
    "del X_test['sensor2_B']\n",
    "del X_test['sensor2_C']"
   ]
  },
  {
   "cell_type": "code",
   "execution_count": null,
   "id": "ff4cc5da-4853-4239-8e87-1d68f5c05780",
   "metadata": {},
   "outputs": [],
   "source": [
    "X_test = X_test.sort_values(by='id')"
   ]
  },
  {
   "cell_type": "code",
   "execution_count": null,
   "id": "7fd97e05-c125-49d0-900a-de27ada4eff6",
   "metadata": {},
   "outputs": [],
   "source": [
    "del X_test['id']\n",
    "del X_test['prediction']"
   ]
  },
  {
   "cell_type": "code",
   "execution_count": null,
   "id": "712833ff-a7df-4cf7-aa75-a1bbca73e81f",
   "metadata": {},
   "outputs": [],
   "source": [
    "X_test=X_test.set_index('time')"
   ]
  },
  {
   "cell_type": "code",
   "execution_count": null,
   "id": "6f71a780-fbf7-461c-b1b3-de52275aab6f",
   "metadata": {},
   "outputs": [],
   "source": [
    "test = test.rename_axis('time')\n",
    "X_test = X_test.rename_axis('time')"
   ]
  },
  {
   "cell_type": "code",
   "execution_count": null,
   "id": "552e59ee-2db3-4409-8246-3f0bce066d59",
   "metadata": {},
   "outputs": [],
   "source": [
    "X_train.columns = [re.sub(r'[^a-zA-Z0-9_]', '_', col) for col in X_train.columns]\n",
    "X_test.columns = [re.sub(r'[^a-zA-Z0-9_]', '_', col) for col in X_test.columns]\n",
    "test.columns = [re.sub(r'[^a-zA-Z0-9_]', '_', col) for col in test.columns]"
   ]
  },
  {
   "cell_type": "markdown",
   "id": "ea53aa58-f28b-4087-9429-74b5dd15c7ca",
   "metadata": {
    "jp-MarkdownHeadingCollapsed": true,
    "tags": []
   },
   "source": [
    "## Generic Functions"
   ]
  },
  {
   "cell_type": "code",
   "execution_count": null,
   "id": "098150cc-c9af-404a-b73d-b574a5817afc",
   "metadata": {},
   "outputs": [],
   "source": [
    "def pred_to_df(array_pred, squared=False):\n",
    "    if squared==True:\n",
    "        array_pred = array_pred**2\n",
    "\n",
    "    df_predicitons = pd.DataFrame(array_pred)\n",
    "    df_predicitons = df_predicitons.applymap(lambda x: max(0, x))\n",
    "    df_predicitons.iloc[:,0] = df_predicitons.iloc[:,0].apply(lambda x: 0 if 0 <= x <= 1 else x)\n",
    "    df_predicitons.rename(columns={df_predicitons.columns[0]: 'values'}, inplace=True)\n",
    "    df_predicitons = df_predicitons.rename_axis('id')\n",
    "    return df_predicitons"
   ]
  },
  {
   "cell_type": "code",
   "execution_count": null,
   "id": "4f197a90",
   "metadata": {},
   "outputs": [],
   "source": [
    "def plot_pred(pred_list, name_list, a1=0, a2=2160):\n",
    "    \"\"\"\n",
    "    Plots the given prediction dataframes from a1 to a2 with the given labels\n",
    "\n",
    "    Parameters:\n",
    "    - pred_list (list of df): list of prediction dataframes.\n",
    "    - name_list (list of str): list of labels (same order as pred_list).\n",
    "    - a1 (int, optional): beginning of viewing window (0).\n",
    "    - a2 (int, optional): end of viewing window (2160).\n",
    "\n",
    "    Returns:\n",
    "    - nothing\n",
    "\n",
    "    Example:\n",
    "    \n",
    "    plot_pred([best_of_best, pazzo, xgb_sum_pred], ['best_of_best', 'pazzo', 'xgb_sum_pred'], 100, 300)\n",
    "    \n",
    "    \"\"\"\n",
    "\n",
    "    new_dataframe = pd.DataFrame()\n",
    "\n",
    "    for i in range(len(pred_list)):\n",
    "        new_dataframe[name_list[i]] = pred_list[i]['values']\n",
    "\n",
    "    plt.figure(figsize=(20,9))\n",
    "\n",
    "    for i in range(len(pred_list)):\n",
    "        new_dataframe[name_list[i]][a1:a2].plot(label=name_list[i])\n",
    "\n",
    "    plt.legend()\n",
    "    plt.show()"
   ]
  },
  {
   "cell_type": "markdown",
   "id": "2f0d2161-befc-4459-b3c5-d0ee0cf2e9e0",
   "metadata": {
    "tags": []
   },
   "source": [
    "## Preparation of the models"
   ]
  },
  {
   "cell_type": "markdown",
   "id": "d6687929-a320-4a85-bba4-ae58d0dbb99c",
   "metadata": {},
   "source": [
    "Hyperparameters for the models used."
   ]
  },
  {
   "cell_type": "code",
   "execution_count": null,
   "id": "f2789260-f8f6-46a0-b44b-91b8a71ff6e3",
   "metadata": {},
   "outputs": [],
   "source": [
    "dict_model_param = {\n",
    "    'lgbm': {\n",
    "        'objective': 'regression',\n",
    "        'metric': 'mae',\n",
    "        'boosting_type': 'gbdt',\n",
    "        'num_leaves': 31,\n",
    "        'learning_rate': 0.01,\n",
    "        'feature_fraction': 0.7,\n",
    "        'feature_pre_filter': True,\n",
    "        'bagging_freq': 5,\n",
    "        'bagging_fraction': 0.75\n",
    "    },\n",
    "    'lgbm_reg': {\n",
    "        'learning_rate': 0.07019571273972466,\n",
    "        'n_estimators': 350,\n",
    "        'max_depth': 10,\n",
    "        'min_child_samples': 29,\n",
    "        'feature_fraction': 0.8244973703390805,\n",
    "        'bagging_fraction': 0.753170749901516,\n",
    "        'reg_alpha': 0.9719949744352129,\n",
    "        'reg_lambda': 0.8504246860234232,\n",
    "        'min_split_gain': 0.36086476058243666,\n",
    "        'max_bin': 62,\n",
    "        'min_child_weight': 0.256068322761324,\n",
    "        'subsample_for_bin': 30\n",
    "    },\n",
    "    'catboost': { #MIGLIORI\n",
    "        'iterations': 1000, \n",
    "        'depth': 6, \n",
    "        'learning_rate': 0.1, \n",
    "        'loss_function': 'MAE'\n",
    "    },\n",
    "    'catboost_opt': {\n",
    "        'depth': 6,\n",
    "        'iterations': 4598,\n",
    "        'learning_rate': 0.11381056696717655\n",
    "    },\n",
    "    'xgboost' : {\n",
    "        'colsample_bytree': 0.8,\n",
    "        'learning_rate': 0.01,\n",
    "        'max_depth': 5,\n",
    "        'n_estimators': 1000,\n",
    "        'subsample': 0.8\n",
    "    },\n",
    "    'xgboost2' : { #MIGLIORI\n",
    "        'colsample_bytree': 0.70468596253168,\n",
    "        'learning_rate': 0.00931602383319447,\n",
    "        'max_depth': 7,\n",
    "        'n_estimators': 56,\n",
    "        'subsample': 0.9610097364456339\n",
    "    },\n",
    "    'xgboost3':{\n",
    "        'colsample_bytree': 0.7224776657906091,\n",
    "        'learning_rate': 0.044779531399174476,\n",
    "        'max_depth': 10,\n",
    "        'n_estimators': 906,\n",
    "        'subsample': 0.706461320142151\n",
    "    },\n",
    "    'randomforest_opt' :{\n",
    "        'max_depth': 26,\n",
    "        'max_features': 0.4942262677968311,\n",
    "        'min_samples_leaf': 6,\n",
    "        'min_samples_split': 8,\n",
    "        'n_estimators': 1809\n",
    "    }\n",
    "}"
   ]
  },
  {
   "cell_type": "markdown",
   "id": "224a5d3a-55f9-4fc2-a149-8ffaaa1f60f6",
   "metadata": {
    "tags": []
   },
   "source": [
    "## Models Predictions"
   ]
  },
  {
   "cell_type": "code",
   "execution_count": null,
   "id": "8ff2260e-4f9a-4cd1-a118-df83d0594a1b",
   "metadata": {},
   "outputs": [],
   "source": [
    "def pred_lgbm(X_train, y_train, test=None, params=None, weights=None):\n",
    "    # Create a LightGBM dataset for the training set\n",
    "    train_data = lgb.Dataset(X_train, label=y_train)\n",
    "\n",
    "    # Define LightGBM parameters\n",
    "    params = {\n",
    "        'objective': 'regression',\n",
    "        'metric': 'mae',\n",
    "        'boosting_type': 'gbdt',\n",
    "        'num_leaves': 31,\n",
    "        'learning_rate': 0.01,\n",
    "        'feature_fraction': 0.7,\n",
    "        'feature_pre_filter':True,\n",
    "        'bagging_freq': 5,\n",
    "        'bagging_fraction': 0.75\n",
    "    }\n",
    "\n",
    "    # Train the LightGBM model\n",
    "    num_round = 1000\n",
    "    model = lgb.train(params, train_data, num_round)   \n",
    "\n",
    "    if test is not None:\n",
    "        # Make predictions on the test set\n",
    "        predictions = model.predict(test, num_iteration=model.best_iteration)\n",
    "\n",
    "        # Make predictions on the test set\n",
    "        return model, model.predict(test, num_iteration=model.best_iteration)\n",
    "    \n",
    "    return model"
   ]
  },
  {
   "cell_type": "code",
   "execution_count": null,
   "id": "ab86deb8-18a6-4434-aed4-f6fbb1d09d26",
   "metadata": {},
   "outputs": [],
   "source": [
    "def pred_lgbm_reg(X_train, y_train, test=None, params=0, weights=None):\n",
    "    if params is None:\n",
    "        params = dict_model_param['lgbm_reg']\n",
    "\n",
    "    # Split your data into training and validation sets\n",
    "    X_train, X_val, y_train, y_val = train_test_split(X_train, y_train, test_size=0.2, random_state=42)\n",
    "\n",
    "    model = LGBMRegressor(**params)\n",
    "\n",
    "    # Specify the validation set using eval_set\n",
    "    eval_set = [(X_val, y_val)]\n",
    "\n",
    "    model.fit(X_train, y_train, eval_set=eval_set)\n",
    "\n",
    "    if test is not None:\n",
    "        # Make predictions on the test set\n",
    "        predictions = model.predict(test)\n",
    "\n",
    "        return model, predictions\n",
    "\n",
    "    return model"
   ]
  },
  {
   "cell_type": "code",
   "execution_count": null,
   "id": "d8487842-7520-4e26-aa4f-d3440cab2f94",
   "metadata": {},
   "outputs": [],
   "source": [
    "def pred_catboost(X_train, y_train, test=None, params=0):\n",
    "\n",
    "    if params ==0:\n",
    "        params = dict_model_param['catboost']\n",
    "\n",
    "    X_train, X_test, y_train, y_test = train_test_split(X_train, y_train, test_size=0.2, random_state=42)\n",
    "    train_dataset = Pool(data=X_train, label=y_train)\n",
    "    test_dataset = Pool(data=X_test, label=y_test)\n",
    "\n",
    "    model = CatBoostRegressor(**params)\n",
    "    model.fit(train_dataset, eval_set=test_dataset, verbose=100)\n",
    "\n",
    "    if test is not None:\n",
    "        test_pool = Pool(data=test)\n",
    "        predictions = model.predict(test_pool)\n",
    "\n",
    "        return model, predictions\n",
    "\n",
    "    return model"
   ]
  },
  {
   "cell_type": "code",
   "execution_count": null,
   "id": "5b023467-2a89-4719-80fe-24756ec541f0",
   "metadata": {},
   "outputs": [],
   "source": [
    "def pred_xgboost(X_train, y_train, test=None, params=0):\n",
    "    \n",
    "    if params ==0:\n",
    "        params = dict_model_param['xgboost']\n",
    "    \n",
    "    X_train, X_test, y_train, y_test = train_test_split(X_train, y_train, test_size=0.2, random_state=42) \n",
    "    \n",
    "    model = XGBRegressor(**params)\n",
    "    model.fit(X_train, y_train)\n",
    "    \n",
    "    if test is not None:\n",
    "        predictions = model.predict(X_test)\n",
    "\n",
    "        return model, predictions\n",
    "    \n",
    "    return model"
   ]
  },
  {
   "cell_type": "code",
   "execution_count": null,
   "id": "f3e89ac8-b7f2-4257-9548-3c4294095ca0",
   "metadata": {},
   "outputs": [],
   "source": [
    "def pred_randomforest(X_train, y_train, test=None, params=0):\n",
    "    \n",
    "    if params ==0:\n",
    "        params = dict_model_param['randomforest']\n",
    "    \n",
    "    model = RandomForestRegressor(**params)\n",
    "    model.fit(X_train, y_train)\n",
    "    \n",
    "    if test is not None:\n",
    "        predictions = model.predict(X_test)\n",
    "\n",
    "        return model, predictions\n",
    "    \n",
    "    return model"
   ]
  },
  {
   "cell_type": "code",
   "execution_count": null,
   "id": "6be00f48-cc36-4f45-bba2-f4b6bcaa52b3",
   "metadata": {},
   "outputs": [],
   "source": [
    "def prediction_models(X_train, y_train, test=None, model='lgbm', params=None, weights=None):#, cat_features=0):\n",
    "    if weights is None:\n",
    "        weights = [1]*len(X_train)\n",
    "    if model=='lgbm':\n",
    "        return pred_lgbm(X_train, y_train, test, params, weights)\n",
    "    if model=='catboost':\n",
    "        return pred_catboost(X_train, y_train, test, params)\n",
    "    if model=='xgboost':\n",
    "        return pred_xgboost(X_train, y_train, test, params)\n",
    "    if model=='randomforest':\n",
    "        return pred_randomforest(X_train, y_train, test, params)\n",
    "    if model=='lgbm_reg':\n",
    "        return pred_lgbm_reg(X_train, y_train, test, params)"
   ]
  },
  {
   "cell_type": "markdown",
   "id": "74040200-7f68-4e58-b848-731c31b951c5",
   "metadata": {
    "tags": []
   },
   "source": [
    "## Y_slided"
   ]
  },
  {
   "cell_type": "code",
   "execution_count": null,
   "id": "57e40fb8-ec7d-4a22-b3a9-ff5226e0075d",
   "metadata": {},
   "outputs": [],
   "source": [
    "def y_slided_prediction(X_train, y_train, test=test, model='lgbm', params=0, squared=False):\n",
    "    if params==0:\n",
    "        params = dict_model_param[model]\n",
    "\n",
    "    Xy_train = X_train.copy()\n",
    "    Xy_train['pv_measurement'] = y_train\n",
    "\n",
    "    Xy_train_A = Xy_train[Xy_train['sensor_A'] == 1]\n",
    "    Xy_train_B = Xy_train[Xy_train['sensor_B'] == 1]\n",
    "    Xy_train_C = Xy_train[Xy_train['sensor_C'] == 1]\n",
    "\n",
    "    Xy_train_A['previous_pv_measurement'] = Xy_train_A['pv_measurement'].shift(1, freq='H')\n",
    "    Xy_train_B['previous_pv_measurement'] = Xy_train_B['pv_measurement'].shift(1, freq='H')\n",
    "    Xy_train_C['previous_pv_measurement'] = Xy_train_C['pv_measurement'].shift(1, freq='H')\n",
    "\n",
    "    X_train_y_slided = pd.concat([Xy_train_A, Xy_train_B, Xy_train_C])\n",
    "    X_train_y_slided.dropna()\n",
    "    y_train_y_slided = X_train_y_slided['pv_measurement']\n",
    "    X_train_y_slided.drop(columns=['pv_measurement'], inplace=True)\n",
    "\n",
    "    y_train_transformed = np.sqrt(y_train_y_slided) if squared else y_train_y_slided\n",
    "\n",
    "    _,y_pred = prediction_models(X_train, y_train_transformed, test=test, model=model) #predizione non slided\n",
    "    \n",
    "    pred = pred_to_df(y_pred, squared)\n",
    "    \n",
    "    model2 = prediction_models(X_train_y_slided, y_train_y_slided, model=model)\n",
    "    \n",
    "    test_slide_A = test[test['sensor_A'] == 1]\n",
    "    test_slide_B = test[test['sensor_B'] == 1]\n",
    "    test_slide_C = test[test['sensor_C'] == 1]\n",
    "    \n",
    "    range2 = len(pred)\n",
    "    range3 = range2 * 2\n",
    "    \n",
    "    pred_A = pred[:len(test_slide_A)-1]\n",
    "    pred_B = pred[len(test_slide_A):len(test_slide_B)+len(test_slide_A)-1]\n",
    "    pred_C = pred[len(test_slide_B)+len(test_slide_A):]\n",
    "    \n",
    "    datasets = [test_slide_A, test_slide_B, test_slide_C]\n",
    "    preds = [pred_A, pred_B, pred_C]\n",
    "\n",
    "    result_all = []\n",
    "\n",
    "    for i in [0, 1, 2]:\n",
    "\n",
    "        dataset = datasets[i]\n",
    "        pred_set = preds[i]\n",
    "\n",
    "        result = []\n",
    "        previous_pv_measurement = pred.values[0][0]\n",
    "\n",
    "        result.append(previous_pv_measurement)\n",
    "        max_time_diff = pd.Timedelta(hours=1)\n",
    "\n",
    "        test_copy = dataset.copy()\n",
    "        test_copy['previous_pv_measurement'] = 0\n",
    "\n",
    "        for index in range(1, len(dataset)):\n",
    "            if test_copy.index[index] - test_copy.index[index-1] > max_time_diff:\n",
    "                previous_pv_measurement = pred_set.values[index][0]\n",
    "            else:\n",
    "                test_copy.loc[test_copy.index[index], 'previous_pv_measurement'] = previous_pv_measurement\n",
    "                if model=='lgbm':\n",
    "                    previous_pv_measurement = model2.predict(test_copy.iloc[index], num_iteration=model2.best_iteration)[0]\n",
    "                else:\n",
    "                    previous_pv_measurement = model2.predict(np.array(test_copy.iloc[index]).reshape(1, 59))[0]\n",
    "                    \n",
    "            result.append(previous_pv_measurement)\n",
    "\n",
    "        result_all.append(result)\n",
    "        \n",
    "    flattened_list = [item for sublist in result_all for item in sublist]\n",
    "    return pred_to_df(pd.DataFrame(flattened_list), False)"
   ]
  },
  {
   "cell_type": "code",
   "execution_count": null,
   "id": "284a3280-76e9-43ca-8899-7c992b78ea14",
   "metadata": {},
   "outputs": [],
   "source": [
    "result_lgbm_slided = y_slided_prediction(X_train, y_train_transformed, test=test, model='lgbm', params=dict_model_param['lgbm'])"
   ]
  },
  {
   "cell_type": "code",
   "execution_count": null,
   "id": "5ebb55df",
   "metadata": {},
   "outputs": [],
   "source": [
    "result_lgbm_slided = pred_to_df(result_lgbm_slided, squared= True)"
   ]
  },
  {
   "cell_type": "code",
   "execution_count": null,
   "id": "d45cac9b",
   "metadata": {
    "jupyter": {
     "outputs_hidden": true
    },
    "tags": []
   },
   "outputs": [],
   "source": [
    "result_lgbm_r_slided = y_slided_prediction(X_train, y_train, test=test, model='lgbm_reg', squared=False) "
   ]
  },
  {
   "cell_type": "code",
   "execution_count": null,
   "id": "c27d357a-b163-4a44-8fed-85689a07a520",
   "metadata": {},
   "outputs": [],
   "source": [
    "lgbm,result_lgbm = prediction_models(X_train, y_train_transformed, test=X_test, model='lgbm')"
   ]
  },
  {
   "cell_type": "code",
   "execution_count": null,
   "id": "7d5faad1-b83a-4ff1-8600-cc0be8f90cf1",
   "metadata": {},
   "outputs": [],
   "source": [
    "result_lgbm = pred_to_df(result_lgbm, squared=True)"
   ]
  },
  {
   "cell_type": "markdown",
   "id": "a17f3c6c-f2f3-471f-9264-bc9746c4d2bf",
   "metadata": {
    "tags": []
   },
   "source": [
    "## Stacking"
   ]
  },
  {
   "cell_type": "code",
   "execution_count": null,
   "id": "32b764fa-ee14-4b7e-a19b-8ffa8267bc88",
   "metadata": {},
   "outputs": [],
   "source": [
    "def stacking_models(base_models, X_train, y_train, test=None, final_regressor='linear', final_params={}):\n",
    "    if final_regressor=='linear':\n",
    "        final_model = LinearRegression()\n",
    "    elif final_regressor == 'SVR':\n",
    "        final_model = SVR(**final_params)\n",
    "        \n",
    "    stacking_regressor = StackingRegressor(\n",
    "        estimators=base_models,\n",
    "        final_estimator=final_model)\n",
    "    \n",
    "    stacking_regressor.fit(X_train, y_train)\n",
    "\n",
    "    if X_test is not None:\n",
    "        y_pred = stacking_regressor.predict(X_test)\n",
    "        return stacking_regressor, y_pred\n",
    "    else:\n",
    "        return stacking_regressor"
   ]
  },
  {
   "cell_type": "markdown",
   "id": "9a9d0a41-8ee3-4388-9ce9-bc7287fc9fef",
   "metadata": {},
   "source": [
    "### Stacking 1"
   ]
  },
  {
   "cell_type": "code",
   "execution_count": null,
   "id": "c2c97f64-988a-4342-99c9-95bd90ace2d1",
   "metadata": {
    "jupyter": {
     "outputs_hidden": true
    },
    "tags": []
   },
   "outputs": [],
   "source": [
    "lgbm, lgb_pred = prediction_models(X_train, y_train_transformed, test=X_test, model='lgbm_reg', params=None)\n",
    "lgb_pred = pred_to_df(lgb_pred, squared=True)"
   ]
  },
  {
   "cell_type": "code",
   "execution_count": null,
   "id": "c7ec5ce3-4573-42a8-8b05-9d63a82a52bf",
   "metadata": {
    "jupyter": {
     "outputs_hidden": true
    },
    "tags": []
   },
   "outputs": [],
   "source": [
    "catboostm, catboost_pred = prediction_models(X_train, y_train_transformed, test=X_test, model='catboost', params=dict_model_param['catboost'])\n",
    "catboost_pred = pred_to_df(catboost_pred, squared=True)"
   ]
  },
  {
   "cell_type": "code",
   "execution_count": null,
   "id": "97e79149-4a5b-48f3-9310-eece3f775c6c",
   "metadata": {},
   "outputs": [],
   "source": [
    "xgboost, xgboost_pred = prediction_models(X_train, y_train_transformed, test=X_test, model='xgboost', params=dict_model_param['xgboost2'])\n",
    "xgboost_pred = pred_to_df(xgboost_pred, squared=True)"
   ]
  },
  {
   "cell_type": "code",
   "execution_count": null,
   "id": "969f767f-515d-4d13-9231-280f5a37722a",
   "metadata": {},
   "outputs": [],
   "source": [
    "randomforest, randomforest_pred = prediction_models(X_train, y_train_transformed, test=X_test, model='randomforest', params=dict_model_param['randomforest_opt'])\n",
    "randomforest_pred = pred_to_df(randomforest_pred, squared=True)"
   ]
  },
  {
   "cell_type": "code",
   "execution_count": null,
   "id": "318dbd46-4a5b-4a96-9ec0-953e36cf3d96",
   "metadata": {},
   "outputs": [],
   "source": [
    "base_models = [\n",
    "    ('lgbm', lgbm),\n",
    "    ('catboost', catboostm),\n",
    "    ('randomforest', randomforest)\n",
    "]"
   ]
  },
  {
   "cell_type": "code",
   "execution_count": null,
   "id": "bd0290ae-3bb2-4a02-bbda-13f7ffb16745",
   "metadata": {
    "jupyter": {
     "outputs_hidden": true
    },
    "tags": []
   },
   "outputs": [],
   "source": [
    "final_model_1, final_pred_1 = stacking_models(base_models,\n",
    "                                          X_train, y_train_transformed,\n",
    "                                          test=X_test, final_regressor='linear',\n",
    "                                          final_params={})"
   ]
  },
  {
   "cell_type": "code",
   "execution_count": null,
   "id": "0c1b959c-5f68-4a7f-bbd1-ff73a7327c81",
   "metadata": {},
   "outputs": [],
   "source": [
    "final_pred_1_2 = pred_to_df(final_pred_1, squared=True)"
   ]
  },
  {
   "cell_type": "markdown",
   "id": "fd432acd-d034-4173-894c-21460cc5beb3",
   "metadata": {},
   "source": [
    "### Stacking 2"
   ]
  },
  {
   "cell_type": "code",
   "execution_count": null,
   "id": "91ecf01f-425e-421d-904d-7b6dad55fd09",
   "metadata": {},
   "outputs": [],
   "source": [
    "base_models_2 = [\n",
    "    ('lgbm', lgbm),\n",
    "    ('catboost', catboostm),\n",
    "    ('xgboost', xgboost),\n",
    "    ('randomforest', randomforest)\n",
    "]"
   ]
  },
  {
   "cell_type": "code",
   "execution_count": null,
   "id": "4b546186-4a7f-40e0-9364-26eab991614c",
   "metadata": {},
   "outputs": [],
   "source": [
    "final_model_2, final_pred_2 = stacking_models(base_models_2, \n",
    "                                              X_train, y_train_transformed, \n",
    "                                              test=X_test, final_regressor='linear', \n",
    "                                              final_params={})"
   ]
  },
  {
   "cell_type": "code",
   "execution_count": null,
   "id": "53e3a3f0-4bcd-4642-b119-68c7d8efe01f",
   "metadata": {},
   "outputs": [],
   "source": [
    "final_pred_2_2 = pred_to_df(final_pred_2, squared=True)"
   ]
  },
  {
   "cell_type": "markdown",
   "id": "9e5f21ed",
   "metadata": {},
   "source": [
    "### Stacking 3"
   ]
  },
  {
   "cell_type": "code",
   "execution_count": null,
   "id": "d1c884e1",
   "metadata": {},
   "outputs": [],
   "source": [
    "catboostm2, _ = prediction_models(X_train, y_train_transformed, test=X_test, model='catboost', params=dict_model_param['catboost_opt'])"
   ]
  },
  {
   "cell_type": "code",
   "execution_count": null,
   "id": "428a4fd0",
   "metadata": {},
   "outputs": [],
   "source": [
    "xgboost2, _ = prediction_models(X_train, y_train_transformed, test=X_test, model='xgboost', params=dict_model_param['xgboost3'])"
   ]
  },
  {
   "cell_type": "code",
   "execution_count": null,
   "id": "f91d51ae",
   "metadata": {},
   "outputs": [],
   "source": [
    "base_models_3 = [\n",
    "    ('lgbm', lgbm),\n",
    "    ('catboost', catboostm),\n",
    "    ('catboost2', catboostm2),\n",
    "    ('xgboost', xgboost2)\n",
    "]"
   ]
  },
  {
   "cell_type": "code",
   "execution_count": null,
   "id": "a0ae9bf2",
   "metadata": {},
   "outputs": [],
   "source": [
    "final_model_3, final_pred_3 = stacking_models(base_models_3,\n",
    "                                                X_train, y_train_transformed,\n",
    "                                                test=X_test, final_regressor='SVR', \n",
    "                                                final_params={})"
   ]
  },
  {
   "cell_type": "code",
   "execution_count": null,
   "id": "d21e1371",
   "metadata": {},
   "outputs": [],
   "source": [
    "final_pred_3_2 = pred_to_df(final_pred_3, True)"
   ]
  },
  {
   "cell_type": "markdown",
   "id": "90bde0f9-2ccc-4788-8493-810d9e2a0674",
   "metadata": {
    "tags": []
   },
   "source": [
    "## Postprocessing"
   ]
  },
  {
   "cell_type": "code",
   "execution_count": null,
   "id": "2e7fbfac-08db-4827-853c-966fa8132353",
   "metadata": {},
   "outputs": [],
   "source": [
    "def merge_with_slided(dataframe, merging_dataframe):\n",
    "    \n",
    "    new_dataframe = pd.DataFrame()\n",
    "    new_dataframe['val1'] = dataframe['values']\n",
    "    \n",
    "    new_dataframe['val2'] = merging_dataframe['values']\n",
    "    new_dataframe['max'] = new_dataframe[['val1','val2']].max(axis=1)\n",
    "    new_dataframe['values'] = np.where(new_dataframe['val1'] < 3000, new_dataframe['val1'], new_dataframe['max'])\n",
    "    only_A=new_dataframe.copy()[:720]\n",
    "    only_B_C=new_dataframe.copy()[720:]\n",
    "    only_B_C['values'] = np.where(only_B_C['val1'] < 550, only_B_C['val1'], only_B_C['max'])\n",
    "    new_dataframe = pd.concat([only_A, only_B_C])['values']\n",
    "    \n",
    "    return pred_to_df(new_dataframe)"
   ]
  },
  {
   "cell_type": "code",
   "execution_count": null,
   "id": "f6ee68b3-c62d-4ad9-958f-366cacdebd54",
   "metadata": {},
   "outputs": [],
   "source": [
    "def merge_with_slided_A(dataframe, merging_dataframe):\n",
    "    \n",
    "    new_dataframe = pd.DataFrame()\n",
    "    new_dataframe['val1'] = dataframe['values']\n",
    "    \n",
    "    new_dataframe['val2'] = merging_dataframe['values']\n",
    "    new_dataframe['max'] = new_dataframe[['val1','val2']].max(axis=1)\n",
    "    new_dataframe['values'] = np.where(new_dataframe['val1'] < 3000, new_dataframe['val1'], new_dataframe['max'])\n",
    "    only_A=new_dataframe.copy()[:720]\n",
    "    only_B_C=new_dataframe.copy()[720:]\n",
    "    new_dataframe = pd.concat([only_A, only_B_C])['values']\n",
    "    \n",
    "    return pred_to_df(new_dataframe)"
   ]
  },
  {
   "cell_type": "code",
   "execution_count": null,
   "id": "c0844c9d",
   "metadata": {},
   "outputs": [],
   "source": [
    "merge1 = merge_with_slided_A(result_lgbm, result_lgbm_slided)"
   ]
  },
  {
   "cell_type": "code",
   "execution_count": null,
   "id": "09141ea6",
   "metadata": {},
   "outputs": [],
   "source": [
    "merge2 = merge_with_slided_A(merge1, result_lgbm_r_slided)"
   ]
  },
  {
   "cell_type": "code",
   "execution_count": null,
   "id": "f6a2006b",
   "metadata": {},
   "outputs": [],
   "source": [
    "merge3 = merge_with_slided(final_pred_1_2, merge2)"
   ]
  },
  {
   "cell_type": "code",
   "execution_count": null,
   "id": "8ea9e073",
   "metadata": {},
   "outputs": [],
   "source": [
    "merge3_1 = merge_with_slided(final_pred_2_2, merge2)"
   ]
  },
  {
   "cell_type": "code",
   "execution_count": null,
   "id": "c804df31",
   "metadata": {},
   "outputs": [],
   "source": [
    "#AVG of two models\n",
    "result_column = (merge3['values'] + merge3_1['values']) / 2\n",
    "\n",
    "avg1 = pd.DataFrame({'Mean_Value': result_column})\n",
    "avg1 = pred_to_df(avg1)"
   ]
  },
  {
   "cell_type": "code",
   "execution_count": null,
   "id": "272c131c",
   "metadata": {},
   "outputs": [],
   "source": [
    "avg2 = pd.DataFrame()\n",
    "avg2['val1'] = avg1['values'] \n",
    "avg2['val2'] = final_pred_3_2['values']\n",
    "avg2['avg'] = (avg2['val1']*2 + avg2['val2'])/3\n",
    "avg2['values'] = np.where(avg2['val1'] > 2000, avg2['val1'], avg2['avg'])\n",
    "avg2 = avg2.drop(columns=['val1','val2','avg'])\n",
    "avg2= pred_to_df(avg2)\n",
    "avg2.to_csv('short_notebook_2_submission.csv')"
   ]
  },
  {
   "cell_type": "code",
   "execution_count": null,
   "id": "bf710bc7-706d-4c77-a3ac-fb67a89d3224",
   "metadata": {},
   "outputs": [],
   "source": []
  },
  {
   "cell_type": "markdown",
   "id": "226162a7-ab0b-463a-b89c-699239c564f1",
   "metadata": {},
   "source": []
  },
  {
   "cell_type": "code",
   "execution_count": null,
   "id": "88d7c739",
   "metadata": {},
   "outputs": [],
   "source": []
  },
  {
   "cell_type": "code",
   "execution_count": null,
   "id": "74e0b838",
   "metadata": {},
   "outputs": [],
   "source": []
  },
  {
   "cell_type": "code",
   "execution_count": null,
   "id": "b515812e",
   "metadata": {},
   "outputs": [],
   "source": []
  },
  {
   "cell_type": "code",
   "execution_count": null,
   "id": "e74e1399",
   "metadata": {},
   "outputs": [],
   "source": []
  }
 ],
 "metadata": {
  "environment": {
   "kernel": "python3",
   "name": "common-cpu.m112",
   "type": "gcloud",
   "uri": "gcr.io/deeplearning-platform-release/base-cpu:m112"
  },
  "kernelspec": {
   "display_name": "Python 3 (ipykernel)",
   "language": "python",
   "name": "python3"
  },
  "language_info": {
   "codemirror_mode": {
    "name": "ipython",
    "version": 3
   },
   "file_extension": ".py",
   "mimetype": "text/x-python",
   "name": "python",
   "nbconvert_exporter": "python",
   "pygments_lexer": "ipython3",
   "version": "3.7.16"
  }
 },
 "nbformat": 4,
 "nbformat_minor": 5
}
